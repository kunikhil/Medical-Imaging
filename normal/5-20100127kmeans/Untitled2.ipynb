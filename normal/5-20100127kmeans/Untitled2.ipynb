{
 "cells": [
  {
   "cell_type": "code",
   "execution_count": 96,
   "metadata": {},
   "outputs": [
    {
     "data": {
      "text/plain": [
       "<matplotlib.image.AxesImage at 0x119522630>"
      ]
     },
     "execution_count": 96,
     "metadata": {},
     "output_type": "execute_result"
    },
    {
     "data": {
      "image/png": "[encoded data removed]",
      "text/plain": [
       "<Figure size 432x288 with 1 Axes>"
      ]
     },
     "metadata": {
      "needs_background": "light"
     },
     "output_type": "display_data"
    }
   ],
   "source": [
    "import cv2\n",
    "import numpy as np\n",
    "import matplotlib.pyplot as plt\n",
    "# Read image\n",
    "im_in = cv2.imread(\"032.png\", cv2.IMREAD_GRAYSCALE);\n",
    "th, im_th = cv2.threshold(im_in, 5, 255, cv2.THRESH_BINARY_INV);\n",
    " \n",
    "# Copy the thresholded image.\n",
    "im_floodfill = im_th.copy()\n",
    " \n",
    "# Mask used to flood filling.\n",
    "# Notice the size needs to be 2 pixels than the image.\n",
    "h, w = im_th.shape[:2]\n",
    "mask = np.zeros((h+2, w+2), np.uint8)\n",
    " \n",
    "# Floodfill from point (0, 0)\n",
    "cv2.floodFill(im_floodfill, mask, (0,0), 255);\n",
    " \n",
    "# Invert floodfilled image\n",
    "im_floodfill_inv = cv2.bitwise_not(im_floodfill)\n",
    " \n",
    "# Combine the two images to get the foreground.\n",
    "im_out = im_th | im_floodfill_inv\n",
    " \n",
    "# Display images.\n",
    "plt.imshow(im_floodfill, cmap='gray', vmin=0, vmax=255)\n"
   ]
  },
  {
   "cell_type": "code",
   "execution_count": null,
   "metadata": {},
   "outputs": [],
   "source": [
    "plt.imshow(\"Floodfilled Image\", im_floodfill)\n",
    "plt.imshow(\"Inverted Floodfilled Image\", im_floodfill_inv)\n",
    "plt.imshow(\"Foreground\", im_out)"
   ]
  },
  {
   "cell_type": "code",
   "execution_count": 38,
   "metadata": {},
   "outputs": [
    {
     "name": "stdout",
     "output_type": "stream",
     "text": [
      "[[0 0 0 ... 0 0 0]\n",
      " [0 0 0 ... 0 0 0]\n",
      " [0 0 0 ... 0 0 0]\n",
      " ...\n",
      " [0 0 0 ... 0 0 0]\n",
      " [0 0 0 ... 0 0 0]\n",
      " [0 0 0 ... 0 0 0]]\n"
     ]
    }
   ],
   "source": [
    "img1=cv2.imread(\"032.png\",0)\n",
    "img2=cv2.imread(\"033.png\",0)\n",
    "ar1=np.array(img1)\n",
    "ar2=np.array(img2)\n",
    "# print(ar1)\n",
    "# diff=ar1-ar2\n",
    "# print(diff)"
   ]
  },
  {
   "cell_type": "code",
   "execution_count": 40,
   "metadata": {},
   "outputs": [
    {
     "ename": "ValueError",
     "evalue": "multiclass-multioutput is not supported",
     "output_type": "error",
     "traceback": [
      "\u001b[0;31m---------------------------------------------------------------------------\u001b[0m",
      "\u001b[0;31mValueError\u001b[0m                                Traceback (most recent call last)",
      "\u001b[0;32m<ipython-input-40-062a1cf3b5cb>\u001b[0m in \u001b[0;36m<module>\u001b[0;34m\u001b[0m\n\u001b[1;32m      2\u001b[0m \u001b[0;32mfrom\u001b[0m \u001b[0msklearn\u001b[0m\u001b[0;34m.\u001b[0m\u001b[0mmetrics\u001b[0m \u001b[0;32mimport\u001b[0m \u001b[0maccuracy_score\u001b[0m\u001b[0;34m\u001b[0m\u001b[0m\n\u001b[1;32m      3\u001b[0m \u001b[0;32mfrom\u001b[0m \u001b[0msklearn\u001b[0m\u001b[0;34m.\u001b[0m\u001b[0mmetrics\u001b[0m \u001b[0;32mimport\u001b[0m \u001b[0mclassification_report\u001b[0m\u001b[0;34m\u001b[0m\u001b[0m\n\u001b[0;32m----> 4\u001b[0;31m \u001b[0mcfmat\u001b[0m\u001b[0;34m=\u001b[0m\u001b[0mconfusion_matrix\u001b[0m\u001b[0;34m(\u001b[0m\u001b[0mar1\u001b[0m\u001b[0;34m,\u001b[0m\u001b[0mar2\u001b[0m\u001b[0;34m)\u001b[0m\u001b[0;34m\u001b[0m\u001b[0m\n\u001b[0m",
      "\u001b[0;32m~/TPUP/lib/python3.6/site-packages/sklearn/metrics/_classification.py\u001b[0m in \u001b[0;36mconfusion_matrix\u001b[0;34m(y_true, y_pred, labels, sample_weight, normalize)\u001b[0m\n\u001b[1;32m    266\u001b[0m \u001b[0;34m\u001b[0m\u001b[0m\n\u001b[1;32m    267\u001b[0m     \"\"\"\n\u001b[0;32m--> 268\u001b[0;31m     \u001b[0my_type\u001b[0m\u001b[0;34m,\u001b[0m \u001b[0my_true\u001b[0m\u001b[0;34m,\u001b[0m \u001b[0my_pred\u001b[0m \u001b[0;34m=\u001b[0m \u001b[0m_check_targets\u001b[0m\u001b[0;34m(\u001b[0m\u001b[0my_true\u001b[0m\u001b[0;34m,\u001b[0m \u001b[0my_pred\u001b[0m\u001b[0;34m)\u001b[0m\u001b[0;34m\u001b[0m\u001b[0m\n\u001b[0m\u001b[1;32m    269\u001b[0m     \u001b[0;32mif\u001b[0m \u001b[0my_type\u001b[0m \u001b[0;32mnot\u001b[0m \u001b[0;32min\u001b[0m \u001b[0;34m(\u001b[0m\u001b[0;34m\"binary\"\u001b[0m\u001b[0;34m,\u001b[0m \u001b[0;34m\"multiclass\"\u001b[0m\u001b[0;34m)\u001b[0m\u001b[0;34m:\u001b[0m\u001b[0;34m\u001b[0m\u001b[0m\n\u001b[1;32m    270\u001b[0m         \u001b[0;32mraise\u001b[0m \u001b[0mValueError\u001b[0m\u001b[0;34m(\u001b[0m\u001b[0;34m\"%s is not supported\"\u001b[0m \u001b[0;34m%\u001b[0m \u001b[0my_type\u001b[0m\u001b[0;34m)\u001b[0m\u001b[0;34m\u001b[0m\u001b[0m\n",
      "\u001b[0;32m~/TPUP/lib/python3.6/site-packages/sklearn/metrics/_classification.py\u001b[0m in \u001b[0;36m_check_targets\u001b[0;34m(y_true, y_pred)\u001b[0m\n\u001b[1;32m     95\u001b[0m     \u001b[0;31m# No metrics support \"multiclass-multioutput\" format\u001b[0m\u001b[0;34m\u001b[0m\u001b[0;34m\u001b[0m\u001b[0m\n\u001b[1;32m     96\u001b[0m     \u001b[0;32mif\u001b[0m \u001b[0;34m(\u001b[0m\u001b[0my_type\u001b[0m \u001b[0;32mnot\u001b[0m \u001b[0;32min\u001b[0m \u001b[0;34m[\u001b[0m\u001b[0;34m\"binary\"\u001b[0m\u001b[0;34m,\u001b[0m \u001b[0;34m\"multiclass\"\u001b[0m\u001b[0;34m,\u001b[0m \u001b[0;34m\"multilabel-indicator\"\u001b[0m\u001b[0;34m]\u001b[0m\u001b[0;34m)\u001b[0m\u001b[0;34m:\u001b[0m\u001b[0;34m\u001b[0m\u001b[0m\n\u001b[0;32m---> 97\u001b[0;31m         \u001b[0;32mraise\u001b[0m \u001b[0mValueError\u001b[0m\u001b[0;34m(\u001b[0m\u001b[0;34m\"{0} is not supported\"\u001b[0m\u001b[0;34m.\u001b[0m\u001b[0mformat\u001b[0m\u001b[0;34m(\u001b[0m\u001b[0my_type\u001b[0m\u001b[0;34m)\u001b[0m\u001b[0;34m)\u001b[0m\u001b[0;34m\u001b[0m\u001b[0m\n\u001b[0m\u001b[1;32m     98\u001b[0m \u001b[0;34m\u001b[0m\u001b[0m\n\u001b[1;32m     99\u001b[0m     \u001b[0;32mif\u001b[0m \u001b[0my_type\u001b[0m \u001b[0;32min\u001b[0m \u001b[0;34m[\u001b[0m\u001b[0;34m\"binary\"\u001b[0m\u001b[0;34m,\u001b[0m \u001b[0;34m\"multiclass\"\u001b[0m\u001b[0;34m]\u001b[0m\u001b[0;34m:\u001b[0m\u001b[0;34m\u001b[0m\u001b[0m\n",
      "\u001b[0;31mValueError\u001b[0m: multiclass-multioutput is not supported"
     ]
    }
   ],
   "source": [
    "from sklearn.metrics import confusion_matrix \n",
    "from sklearn.metrics import accuracy_score \n",
    "from sklearn.metrics import classification_report\n",
    "cfmat=confusion_matrix(ar1,ar2)"
   ]
  },
  {
   "cell_type": "code",
   "execution_count": 68,
   "metadata": {},
   "outputs": [
    {
     "data": {
      "text/plain": [
       "<matplotlib.image.AxesImage at 0x12299ff98>"
      ]
     },
     "execution_count": 68,
     "metadata": {},
     "output_type": "execute_result"
    },
    {
     "data": {
      "image/png": "[encoded data removed]",
      "text/plain": [
       "<Figure size 432x288 with 1 Axes>"
      ]
     },
     "metadata": {
      "needs_background": "light"
     },
     "output_type": "display_data"
    }
   ],
   "source": [
    "import cv2 as cv\n",
    "import numpy as np\n",
    "from matplotlib import pyplot as plt\n",
    "img = cv.imread('032.png',0)\n",
    "ret,thresh1 = cv.threshold(img,5,255,cv.THRESH_BINARY)\n",
    "plt.imshow(thresh1, cmap='gray', vmin=0, vmax=255)"
   ]
  },
  {
   "cell_type": "code",
   "execution_count": 6,
   "metadata": {},
   "outputs": [
    {
     "name": "stdout",
     "output_type": "stream",
     "text": [
      "Number of objects is 3\n"
     ]
    },
    {
     "data": {
      "text/plain": [
       "<matplotlib.image.AxesImage at 0x115effda0>"
      ]
     },
     "execution_count": 6,
     "metadata": {},
     "output_type": "execute_result"
    },
    {
     "data": {
      "image/png": "[encoded data removed]",
      "text/plain": [
       "<Figure size 432x288 with 1 Axes>"
      ]
     },
     "metadata": {
      "needs_background": "light"
     },
     "output_type": "display_data"
    }
   ],
   "source": [
    "import cv2\n",
    "import numpy as np\n",
    "import matplotlib.pyplot as plt\n",
    "from scipy import ndimage\n",
    "im = cv2.imread(\"imq.png\",0)\n",
    "threshold = 100\n",
    "\n",
    "# find connected components\n",
    "labeled, nr_objects = ndimage.label(im >threshold) \n",
    "print(\"Number of objects is {}\".format(nr_objects))\n",
    "plt.imshow(labeled)"
   ]
  },
  {
   "cell_type": "code",
   "execution_count": 7,
   "metadata": {},
   "outputs": [],
   "source": [
    "def final_image(labeled_image):\n",
    "    labeled_image = labeled_image.flatten()\n",
    "    largest_contour = sum(labeled_image==1)\n",
    "    index_1 = np.where(labeled_image==1)\n",
    "    index_2 = np.where(labeled_image==2)\n",
    "    second_largest_contour = sum(labeled_image==2)\n",
    "    if (second_largest_contour > largest_contour/2 ):\n",
    "        index = np.concatenate(index_1, index_2)\n",
    "    else:\n",
    "        index = index_1\n",
    "    labeled_image[index]=255\n",
    "    index_ = np.where(labeled_image!=255)\n",
    "    labeled_image[index_]=0\n",
    "    labeled_image = np.resize(labeled_image, (128,128))\n",
    "    print(labeled_image.shape)\n",
    "    return labeled_image"
   ]
  },
  {
   "cell_type": "code",
   "execution_count": 8,
   "metadata": {},
   "outputs": [
    {
     "name": "stdout",
     "output_type": "stream",
     "text": [
      "(128, 128)\n"
     ]
    },
    {
     "data": {
      "text/plain": [
       "<matplotlib.image.AxesImage at 0x115fdd2e8>"
      ]
     },
     "execution_count": 8,
     "metadata": {},
     "output_type": "execute_result"
    },
    {
     "data": {
      "image/png": "[encoded data removed]",
      "text/plain": [
       "<Figure size 432x288 with 1 Axes>"
      ]
     },
     "metadata": {
      "needs_background": "light"
     },
     "output_type": "display_data"
    }
   ],
   "source": [
    "im = final_image(labeled)\n",
    "plt.imshow(im)"
   ]
  },
  {
   "cell_type": "code",
   "execution_count": 5,
   "metadata": {},
   "outputs": [],
   "source": [
    "def get_lungs_mask_for_slice(slice_array):\n",
    "    \"\"\"\n",
    "    Performs the slices segmentation and returns a lungs mask\n",
    "    :param slice_array: ndarray of a dicom slice data\n",
    "    :return: ndarray of dicom slice data where values are equal to 1 or 0:\n",
    "     1 is the pixel belonging to lungs, 0 is the pixel belonging to other structures\n",
    "    \"\"\"\n",
    "    rows_num = slice_array.shape[0]\n",
    "    cols_num = slice_array.shape[1]\n",
    "\n",
    "    # Global image normalization\n",
    "    global_mean = np.mean(slice_array)\n",
    "    global_std = np.std(slice_array)\n",
    "    norm_slice = slice_array - global_mean\n",
    "    norm_slice = norm_slice / global_std\n",
    "\n",
    "    # Find the mean value for the middle area of the slice\n",
    "    middle_slice = norm_slice[int(cols_num / 5): int(cols_num / 5 * 4),\n",
    "                              int(rows_num / 5): int(rows_num / 5 * 4)]\n",
    "    middle_mean = np.mean(middle_slice)\n",
    "\n",
    "    # Smoothing the intensity peaks by middle mean value\n",
    "    norm_slice_min = np.min(norm_slice)\n",
    "    norm_slice_max = np.max(norm_slice)\n",
    "    norm_slice[norm_slice == norm_slice_min] = middle_mean\n",
    "    norm_slice[norm_slice == norm_slice_max] = middle_mean\n",
    "\n",
    "    # Use k-means to separate tissue background and air foreground of the middle\n",
    "    kmeans = KMeans(n_clusters=2).\\\n",
    "        fit(np.reshape(middle_slice, [np.prod(middle_slice.shape), 1]))\n",
    "    cluster_centers = sorted(kmeans.cluster_centers_.flatten())\n",
    "\n",
    "    # Thresholding of the slice\n",
    "    intencity_threshold = np.mean(cluster_centers)\n",
    "    thresholded_slice = np.where(norm_slice < intencity_threshold, 1.0, 0.0)\n",
    "\n",
    "    # Make erosion and dilation to smooth noises\n",
    "    ef_size = ls_conf['erosion_filter_size']\n",
    "    df_size = ls_conf['dilation_filter_size']\n",
    "    eroded_slice = morphology.erosion(thresholded_slice, np.ones([ef_size, ef_size]))\n",
    "    dilated_slice = morphology.dilation(eroded_slice, np.ones([df_size, df_size]))\n",
    "\n",
    "    # Find regions which are fit to the estimated position of lungs\n",
    "    labels = measure.label(dilated_slice)\n",
    "    regions = measure.regionprops(labels)\n",
    "    fit_labels = []\n",
    "    for prop in regions:\n",
    "        bbox = prop.bbox\n",
    "        if bbox[2] - bbox[0] < rows_num / 10 * 9 and \\\n",
    "           bbox[3] - bbox[1] < cols_num / 10 * 9 and \\\n",
    "           bbox[0] > rows_num / 5 and \\\n",
    "           bbox[2] < cols_num / 5 * 4:\n",
    "            fit_labels.append(prop.label)\n",
    "\n",
    "    # Creating lungs mask\n",
    "    lungs_mask = np.ndarray([rows_num, cols_num], dtype=np.uint8)\n",
    "    lungs_mask[:] = 0\n",
    "    for lb in fit_labels:\n",
    "        lungs_mask = lungs_mask + np.where(labels == lb, 1, 0)\n",
    "    lungs_mask = morphology.dilation(lungs_mask, np.ones([df_size, df_size]))\n",
    "\n",
    "    return lungs_mask"
   ]
  },
  {
   "cell_type": "code",
   "execution_count": null,
   "metadata": {},
   "outputs": [],
   "source": []
  }
 ],
 "metadata": {
  "kernelspec": {
   "display_name": "TPUP",
   "language": "python",
   "name": "tpup"
  },
  "language_info": {
   "codemirror_mode": {
    "name": "ipython",
    "version": 3
   },
   "file_extension": ".py",
   "mimetype": "text/x-python",
   "name": "python",
   "nbconvert_exporter": "python",
   "pygments_lexer": "ipython3",
   "version": "3.6.5"
  }
 },
 "nbformat": 4,
 "nbformat_minor": 2
}
